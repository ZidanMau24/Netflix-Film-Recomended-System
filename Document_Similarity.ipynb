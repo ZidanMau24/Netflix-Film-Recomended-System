{
  "cells": [
    {
      "cell_type": "markdown",
      "metadata": {
        "id": "view-in-github",
        "colab_type": "text"
      },
      "source": [
        "<a href=\"https://colab.research.google.com/github/ZidanMau24/UAS-AMS/blob/main/Uas_Document_Similarity.ipynb\" target=\"_parent\"><img src=\"https://colab.research.google.com/assets/colab-badge.svg\" alt=\"Open In Colab\"/></a>"
      ]
    },
    {
      "cell_type": "markdown",
      "metadata": {
        "id": "kYQxRWGHVOfu"
      },
      "source": [
        "**Document Similarity**\n",
        "\n",
        "\n",
        "\n"
      ]
    },
    {
      "cell_type": "markdown",
      "metadata": {
        "id": "i5c9r2AZFeRP"
      },
      "source": [
        "# Rekomendasi Film dengan Kemiripan Dokumen\n",
        "\n",
        "Sistem rekomendasi adalah salah satu aplikasi pembelajaran mesin yang populer dan paling banyak diadopsi. Mereka biasanya digunakan untuk merekomendasikan entitas kepada pengguna dan entitas ini dapat berupa apa saja seperti produk, film, layanan, dan sebagainya.\n",
        "\n",
        "Biasanya sistem pemberi rekomendasi dapat diimplementasikan dalam tiga cara:\n",
        "\n",
        "- Simple Rule-based Recommenders / Rekomendasi Berbasis Aturan Sederhana: Biasanya berdasarkan metrik dan ambang batas global tertentu seperti popularitas film, peringkat global, dll.\n",
        "- Content-based Recommenders / Rekomendasi berbasis konten: Ini didasarkan pada penyediaan entitas serupa berdasarkan entitas minat tertentu. Metadata konten dapat digunakan di sini seperti deskripsi film, genre, pemeran, sutradara, dan sebagainya\n",
        "- Collaborative filtering Recommenders / Pemfilteran kolaboratif Rekomendasi: Di ​​sini kami tidak memerlukan metadata, tetapi kami mencoba memprediksi rekomendasi dan peringkat berdasarkan peringkat sebelumnya dari berbagai pengguna dan item tertentu.\n",
        "\n",
        "Kami akan membangun sistem rekomendasi film di sini berdasarkan data\\metadata yang berkaitan dengan film yang berbeda, kami mencoba dan merekomendasikan film serupa yang menarik!\n",
        "\n",
        "Karena fokus kami bukan pada mesin rekomendasi tetapi NLP, kami akan memanfaatkan metadata berbasis teks untuk setiap film untuk mencoba dan merekomendasikan film serupa berdasarkan film tertentu yang diminati. Ini termasuk dalam rekomendasi berbasis konten."
      ]
    },
    {
      "cell_type": "markdown",
      "source": [
        "LOAD GDRIVE"
      ],
      "metadata": {
        "id": "D2AF2bXgIsXr"
      }
    },
    {
      "cell_type": "code",
      "source": [
        " from google.colab import drive\n",
        " drive.mount('/content/drive')\n",
        " import sys\n",
        " sys.path.append('/content/drive/My Drive/Colab Notebooks/UAS_AMS')"
      ],
      "metadata": {
        "colab": {
          "base_uri": "https://localhost:8080/"
        },
        "id": "lxzz-QPFI4lC",
        "outputId": "2327244f-0427-47ae-abef-63c82e769f9c"
      },
      "execution_count": 81,
      "outputs": [
        {
          "output_type": "stream",
          "name": "stdout",
          "text": [
            "Drive already mounted at /content/drive; to attempt to forcibly remount, call drive.mount(\"/content/drive\", force_remount=True).\n"
          ]
        }
      ]
    },
    {
      "cell_type": "markdown",
      "metadata": {
        "id": "kXftv7OSFsHJ"
      },
      "source": [
        "## install library"
      ]
    },
    {
      "cell_type": "code",
      "execution_count": 82,
      "metadata": {
        "colab": {
          "base_uri": "https://localhost:8080/"
        },
        "id": "o9Ntmc0GVGIA",
        "outputId": "e9f25880-ee52-4ab1-afb1-5fce242f9cd1"
      },
      "outputs": [
        {
          "output_type": "stream",
          "name": "stdout",
          "text": [
            "Looking in indexes: https://pypi.org/simple, https://us-python.pkg.dev/colab-wheels/public/simple/\n",
            "Requirement already satisfied: textsearch in /usr/local/lib/python3.8/dist-packages (0.0.24)\n",
            "Requirement already satisfied: pyahocorasick in /usr/local/lib/python3.8/dist-packages (from textsearch) (1.4.4)\n",
            "Requirement already satisfied: anyascii in /usr/local/lib/python3.8/dist-packages (from textsearch) (0.3.1)\n",
            "Looking in indexes: https://pypi.org/simple, https://us-python.pkg.dev/colab-wheels/public/simple/\n",
            "Requirement already satisfied: contractions in /usr/local/lib/python3.8/dist-packages (0.1.73)\n",
            "Requirement already satisfied: textsearch>=0.0.21 in /usr/local/lib/python3.8/dist-packages (from contractions) (0.0.24)\n",
            "Requirement already satisfied: anyascii in /usr/local/lib/python3.8/dist-packages (from textsearch>=0.0.21->contractions) (0.3.1)\n",
            "Requirement already satisfied: pyahocorasick in /usr/local/lib/python3.8/dist-packages (from textsearch>=0.0.21->contractions) (1.4.4)\n"
          ]
        },
        {
          "output_type": "stream",
          "name": "stderr",
          "text": [
            "[nltk_data] Downloading package punkt to /root/nltk_data...\n",
            "[nltk_data]   Package punkt is already up-to-date!\n",
            "[nltk_data] Downloading package stopwords to /root/nltk_data...\n",
            "[nltk_data]   Package stopwords is already up-to-date!\n"
          ]
        },
        {
          "output_type": "execute_result",
          "data": {
            "text/plain": [
              "True"
            ]
          },
          "metadata": {},
          "execution_count": 82
        }
      ],
      "source": [
        " !pip install textsearch\n",
        " !pip install contractions\n",
        "import nltk\n",
        " nltk.download('punkt')\n",
        " nltk.download('stopwords')"
      ]
    },
    {
      "cell_type": "markdown",
      "metadata": {
        "id": "AqkJZoc8Funn"
      },
      "source": [
        "## load dan view data"
      ]
    },
    {
      "cell_type": "code",
      "execution_count": 83,
      "metadata": {
        "colab": {
          "base_uri": "https://localhost:8080/"
        },
        "id": "NmbIBH8YVLV_",
        "outputId": "a1e6075f-110b-453c-9d46-9e65a86a2325"
      },
      "outputs": [
        {
          "output_type": "stream",
          "name": "stdout",
          "text": [
            "<class 'pandas.core.frame.DataFrame'>\n",
            "RangeIndex: 10000 entries, 0 to 9999\n",
            "Data columns (total 9 columns):\n",
            " #   Column             Non-Null Count  Dtype  \n",
            "---  ------             --------------  -----  \n",
            " 0   id                 10000 non-null  int64  \n",
            " 1   original_language  10000 non-null  object \n",
            " 2   original_title     10000 non-null  object \n",
            " 3   overview           9994 non-null   object \n",
            " 4   popularity         10000 non-null  float64\n",
            " 5   release_date       10000 non-null  object \n",
            " 6   title              10000 non-null  object \n",
            " 7   vote_average       10000 non-null  float64\n",
            " 8   vote_count         10000 non-null  int64  \n",
            "dtypes: float64(2), int64(2), object(5)\n",
            "memory usage: 703.2+ KB\n"
          ]
        }
      ],
      "source": [
        "import pandas as pd\n",
        "df = pd.read_csv('/content/drive/My Drive/Colab Notebooks/UAS_AMS/TMDB 10000 Movies Dataset.csv')\n",
        "\n",
        "df.info()"
      ]
    },
    {
      "cell_type": "code",
      "execution_count": 84,
      "metadata": {
        "colab": {
          "base_uri": "https://localhost:8080/",
          "height": 206
        },
        "id": "ibqw4SCJVWIO",
        "outputId": "2f4a8161-94f1-4511-db75-3e71d338754b"
      },
      "outputs": [
        {
          "output_type": "execute_result",
          "data": {
            "text/plain": [
              "       id original_language            original_title  \\\n",
              "0  851644                ko                   20세기 소녀   \n",
              "1     238                en             The Godfather   \n",
              "2     278                en  The Shawshank Redemption   \n",
              "3     240                en     The Godfather Part II   \n",
              "4  667257                es          Cosas imposibles   \n",
              "\n",
              "                                            overview  popularity release_date  \\\n",
              "0  Yeon-du asks her best friend Bora to collect a...     170.540   2022-10-06   \n",
              "1  Spanning the years 1945 to 1955, a chronicle o...      86.518   1972-03-14   \n",
              "2  Framed in the 1940s for the double murder of h...      84.681   1994-09-23   \n",
              "3  In the continuing saga of the Corleone crime f...      44.957   1974-12-20   \n",
              "4  Matilde is a woman who, after the death of her...      32.859   2021-06-17   \n",
              "\n",
              "                      title  vote_average  vote_count  \n",
              "0         20th Century Girl           8.7         290  \n",
              "1             The Godfather           8.7       16988  \n",
              "2  The Shawshank Redemption           8.7       22748  \n",
              "3     The Godfather Part II           8.6       10293  \n",
              "4         Impossible Things           8.6         299  "
            ],
            "text/html": [
              "\n",
              "  <div id=\"df-64b6f378-8442-4cad-bbb1-c8cf36ff8dd3\">\n",
              "    <div class=\"colab-df-container\">\n",
              "      <div>\n",
              "<style scoped>\n",
              "    .dataframe tbody tr th:only-of-type {\n",
              "        vertical-align: middle;\n",
              "    }\n",
              "\n",
              "    .dataframe tbody tr th {\n",
              "        vertical-align: top;\n",
              "    }\n",
              "\n",
              "    .dataframe thead th {\n",
              "        text-align: right;\n",
              "    }\n",
              "</style>\n",
              "<table border=\"1\" class=\"dataframe\">\n",
              "  <thead>\n",
              "    <tr style=\"text-align: right;\">\n",
              "      <th></th>\n",
              "      <th>id</th>\n",
              "      <th>original_language</th>\n",
              "      <th>original_title</th>\n",
              "      <th>overview</th>\n",
              "      <th>popularity</th>\n",
              "      <th>release_date</th>\n",
              "      <th>title</th>\n",
              "      <th>vote_average</th>\n",
              "      <th>vote_count</th>\n",
              "    </tr>\n",
              "  </thead>\n",
              "  <tbody>\n",
              "    <tr>\n",
              "      <th>0</th>\n",
              "      <td>851644</td>\n",
              "      <td>ko</td>\n",
              "      <td>20세기 소녀</td>\n",
              "      <td>Yeon-du asks her best friend Bora to collect a...</td>\n",
              "      <td>170.540</td>\n",
              "      <td>2022-10-06</td>\n",
              "      <td>20th Century Girl</td>\n",
              "      <td>8.7</td>\n",
              "      <td>290</td>\n",
              "    </tr>\n",
              "    <tr>\n",
              "      <th>1</th>\n",
              "      <td>238</td>\n",
              "      <td>en</td>\n",
              "      <td>The Godfather</td>\n",
              "      <td>Spanning the years 1945 to 1955, a chronicle o...</td>\n",
              "      <td>86.518</td>\n",
              "      <td>1972-03-14</td>\n",
              "      <td>The Godfather</td>\n",
              "      <td>8.7</td>\n",
              "      <td>16988</td>\n",
              "    </tr>\n",
              "    <tr>\n",
              "      <th>2</th>\n",
              "      <td>278</td>\n",
              "      <td>en</td>\n",
              "      <td>The Shawshank Redemption</td>\n",
              "      <td>Framed in the 1940s for the double murder of h...</td>\n",
              "      <td>84.681</td>\n",
              "      <td>1994-09-23</td>\n",
              "      <td>The Shawshank Redemption</td>\n",
              "      <td>8.7</td>\n",
              "      <td>22748</td>\n",
              "    </tr>\n",
              "    <tr>\n",
              "      <th>3</th>\n",
              "      <td>240</td>\n",
              "      <td>en</td>\n",
              "      <td>The Godfather Part II</td>\n",
              "      <td>In the continuing saga of the Corleone crime f...</td>\n",
              "      <td>44.957</td>\n",
              "      <td>1974-12-20</td>\n",
              "      <td>The Godfather Part II</td>\n",
              "      <td>8.6</td>\n",
              "      <td>10293</td>\n",
              "    </tr>\n",
              "    <tr>\n",
              "      <th>4</th>\n",
              "      <td>667257</td>\n",
              "      <td>es</td>\n",
              "      <td>Cosas imposibles</td>\n",
              "      <td>Matilde is a woman who, after the death of her...</td>\n",
              "      <td>32.859</td>\n",
              "      <td>2021-06-17</td>\n",
              "      <td>Impossible Things</td>\n",
              "      <td>8.6</td>\n",
              "      <td>299</td>\n",
              "    </tr>\n",
              "  </tbody>\n",
              "</table>\n",
              "</div>\n",
              "      <button class=\"colab-df-convert\" onclick=\"convertToInteractive('df-64b6f378-8442-4cad-bbb1-c8cf36ff8dd3')\"\n",
              "              title=\"Convert this dataframe to an interactive table.\"\n",
              "              style=\"display:none;\">\n",
              "        \n",
              "  <svg xmlns=\"http://www.w3.org/2000/svg\" height=\"24px\"viewBox=\"0 0 24 24\"\n",
              "       width=\"24px\">\n",
              "    <path d=\"M0 0h24v24H0V0z\" fill=\"none\"/>\n",
              "    <path d=\"M18.56 5.44l.94 2.06.94-2.06 2.06-.94-2.06-.94-.94-2.06-.94 2.06-2.06.94zm-11 1L8.5 8.5l.94-2.06 2.06-.94-2.06-.94L8.5 2.5l-.94 2.06-2.06.94zm10 10l.94 2.06.94-2.06 2.06-.94-2.06-.94-.94-2.06-.94 2.06-2.06.94z\"/><path d=\"M17.41 7.96l-1.37-1.37c-.4-.4-.92-.59-1.43-.59-.52 0-1.04.2-1.43.59L10.3 9.45l-7.72 7.72c-.78.78-.78 2.05 0 2.83L4 21.41c.39.39.9.59 1.41.59.51 0 1.02-.2 1.41-.59l7.78-7.78 2.81-2.81c.8-.78.8-2.07 0-2.86zM5.41 20L4 18.59l7.72-7.72 1.47 1.35L5.41 20z\"/>\n",
              "  </svg>\n",
              "      </button>\n",
              "      \n",
              "  <style>\n",
              "    .colab-df-container {\n",
              "      display:flex;\n",
              "      flex-wrap:wrap;\n",
              "      gap: 12px;\n",
              "    }\n",
              "\n",
              "    .colab-df-convert {\n",
              "      background-color: #E8F0FE;\n",
              "      border: none;\n",
              "      border-radius: 50%;\n",
              "      cursor: pointer;\n",
              "      display: none;\n",
              "      fill: #1967D2;\n",
              "      height: 32px;\n",
              "      padding: 0 0 0 0;\n",
              "      width: 32px;\n",
              "    }\n",
              "\n",
              "    .colab-df-convert:hover {\n",
              "      background-color: #E2EBFA;\n",
              "      box-shadow: 0px 1px 2px rgba(60, 64, 67, 0.3), 0px 1px 3px 1px rgba(60, 64, 67, 0.15);\n",
              "      fill: #174EA6;\n",
              "    }\n",
              "\n",
              "    [theme=dark] .colab-df-convert {\n",
              "      background-color: #3B4455;\n",
              "      fill: #D2E3FC;\n",
              "    }\n",
              "\n",
              "    [theme=dark] .colab-df-convert:hover {\n",
              "      background-color: #434B5C;\n",
              "      box-shadow: 0px 1px 3px 1px rgba(0, 0, 0, 0.15);\n",
              "      filter: drop-shadow(0px 1px 2px rgba(0, 0, 0, 0.3));\n",
              "      fill: #FFFFFF;\n",
              "    }\n",
              "  </style>\n",
              "\n",
              "      <script>\n",
              "        const buttonEl =\n",
              "          document.querySelector('#df-64b6f378-8442-4cad-bbb1-c8cf36ff8dd3 button.colab-df-convert');\n",
              "        buttonEl.style.display =\n",
              "          google.colab.kernel.accessAllowed ? 'block' : 'none';\n",
              "\n",
              "        async function convertToInteractive(key) {\n",
              "          const element = document.querySelector('#df-64b6f378-8442-4cad-bbb1-c8cf36ff8dd3');\n",
              "          const dataTable =\n",
              "            await google.colab.kernel.invokeFunction('convertToInteractive',\n",
              "                                                     [key], {});\n",
              "          if (!dataTable) return;\n",
              "\n",
              "          const docLinkHtml = 'Like what you see? Visit the ' +\n",
              "            '<a target=\"_blank\" href=https://colab.research.google.com/notebooks/data_table.ipynb>data table notebook</a>'\n",
              "            + ' to learn more about interactive tables.';\n",
              "          element.innerHTML = '';\n",
              "          dataTable['output_type'] = 'display_data';\n",
              "          await google.colab.output.renderOutput(dataTable, element);\n",
              "          const docLink = document.createElement('div');\n",
              "          docLink.innerHTML = docLinkHtml;\n",
              "          element.appendChild(docLink);\n",
              "        }\n",
              "      </script>\n",
              "    </div>\n",
              "  </div>\n",
              "  "
            ]
          },
          "metadata": {},
          "execution_count": 84
        }
      ],
      "source": [
        "df.head()"
      ]
    },
    {
      "cell_type": "code",
      "source": [
        "df.info\n"
      ],
      "metadata": {
        "colab": {
          "base_uri": "https://localhost:8080/"
        },
        "id": "Y0j0RdlnLDwn",
        "outputId": "84373cfc-84fd-4791-b618-f72bb4a79460"
      },
      "execution_count": 85,
      "outputs": [
        {
          "output_type": "execute_result",
          "data": {
            "text/plain": [
              "<bound method DataFrame.info of           id original_language             original_title  \\\n",
              "0     851644                ko                    20세기 소녀   \n",
              "1        238                en              The Godfather   \n",
              "2        278                en   The Shawshank Redemption   \n",
              "3        240                en      The Godfather Part II   \n",
              "4     667257                es           Cosas imposibles   \n",
              "...      ...               ...                        ...   \n",
              "9995   11375                en         Hollywood Homicide   \n",
              "9996  298614                fr  Une heure de tranquillité   \n",
              "9997   50357                en                  Apollo 18   \n",
              "9998   97795                en                     Emergo   \n",
              "9999   11822                de                Nekromantik   \n",
              "\n",
              "                                               overview  popularity  \\\n",
              "0     Yeon-du asks her best friend Bora to collect a...     170.540   \n",
              "1     Spanning the years 1945 to 1955, a chronicle o...      86.518   \n",
              "2     Framed in the 1940s for the double murder of h...      84.681   \n",
              "3     In the continuing saga of the Corleone crime f...      44.957   \n",
              "4     Matilde is a woman who, after the death of her...      32.859   \n",
              "...                                                 ...         ...   \n",
              "9995  Joe Gavilan and his new partner K. C. Calden, ...       9.532   \n",
              "9996  Michel, who's crazy about jazz, has just found...       5.835   \n",
              "9997  Officially, Apollo 17 was the last manned miss...      51.415   \n",
              "9998  A team of parapsychologists sets out to invest...       6.226   \n",
              "9999  A street sweeper who cleans up after grisly ac...       9.630   \n",
              "\n",
              "     release_date                     title  vote_average  vote_count  \n",
              "0      2022-10-06         20th Century Girl           8.7         290  \n",
              "1      1972-03-14             The Godfather           8.7       16988  \n",
              "2      1994-09-23  The Shawshank Redemption           8.7       22748  \n",
              "3      1974-12-20     The Godfather Part II           8.6       10293  \n",
              "4      2021-06-17         Impossible Things           8.6         299  \n",
              "...           ...                       ...           ...         ...  \n",
              "9995   2003-06-09        Hollywood Homicide           5.3         529  \n",
              "9996   2014-12-31            Do Not Disturb           5.3         304  \n",
              "9997   2011-07-20                 Apollo 18           5.3         839  \n",
              "9998   2011-10-11             Apartment 143           5.3         242  \n",
              "9999   1988-01-29               Nekromantik           5.3         202  \n",
              "\n",
              "[10000 rows x 9 columns]>"
            ]
          },
          "metadata": {},
          "execution_count": 85
        }
      ]
    },
    {
      "cell_type": "code",
      "execution_count": 86,
      "metadata": {
        "colab": {
          "base_uri": "https://localhost:8080/"
        },
        "id": "jphrq6CGVYwh",
        "outputId": "dd827b88-9a53-491b-9b1f-077180036a78"
      },
      "outputs": [
        {
          "output_type": "stream",
          "name": "stdout",
          "text": [
            "<class 'pandas.core.frame.DataFrame'>\n",
            "Int64Index: 10000 entries, 2098 to 8171\n",
            "Data columns (total 3 columns):\n",
            " #   Column      Non-Null Count  Dtype  \n",
            "---  ------      --------------  -----  \n",
            " 0   title       10000 non-null  object \n",
            " 1   overview    9994 non-null   object \n",
            " 2   popularity  10000 non-null  float64\n",
            "dtypes: float64(1), object(2)\n",
            "memory usage: 312.5+ KB\n"
          ]
        }
      ],
      "source": [
        "df = df[['title', 'overview', 'popularity']]\n",
        "df = df.sort_values(by=['popularity'], ascending=False)\n",
        "df.info()"
      ]
    },
    {
      "cell_type": "code",
      "execution_count": 87,
      "metadata": {
        "colab": {
          "base_uri": "https://localhost:8080/",
          "height": 206
        },
        "id": "EGttDhkyVcnN",
        "outputId": "c1451349-908a-494f-f8b8-cfba937bcf42"
      },
      "outputs": [
        {
          "output_type": "execute_result",
          "data": {
            "text/plain": [
              "                                            title  \\\n",
              "2098                                   Black Adam   \n",
              "466                                The Woman King   \n",
              "1187               Black Panther: Wakanda Forever   \n",
              "1546  The Guardians of the Galaxy Holiday Special   \n",
              "2077                                 Disenchanted   \n",
              "\n",
              "                                               overview  popularity  \n",
              "2098  Nearly 5,000 years after he was bestowed with ...    9137.939  \n",
              "466   The story of the Agojie, the all-female unit o...    4835.899  \n",
              "1187  Queen Ramonda, Shuri, M’Baku, Okoye and the Do...    1687.653  \n",
              "1546  On a mission to make Christmas unforgettable f...    1480.629  \n",
              "2077  Disillusioned with life in the city, feeling o...    1468.421  "
            ],
            "text/html": [
              "\n",
              "  <div id=\"df-b786cb25-62ff-4516-a59c-0e07f8107d08\">\n",
              "    <div class=\"colab-df-container\">\n",
              "      <div>\n",
              "<style scoped>\n",
              "    .dataframe tbody tr th:only-of-type {\n",
              "        vertical-align: middle;\n",
              "    }\n",
              "\n",
              "    .dataframe tbody tr th {\n",
              "        vertical-align: top;\n",
              "    }\n",
              "\n",
              "    .dataframe thead th {\n",
              "        text-align: right;\n",
              "    }\n",
              "</style>\n",
              "<table border=\"1\" class=\"dataframe\">\n",
              "  <thead>\n",
              "    <tr style=\"text-align: right;\">\n",
              "      <th></th>\n",
              "      <th>title</th>\n",
              "      <th>overview</th>\n",
              "      <th>popularity</th>\n",
              "    </tr>\n",
              "  </thead>\n",
              "  <tbody>\n",
              "    <tr>\n",
              "      <th>2098</th>\n",
              "      <td>Black Adam</td>\n",
              "      <td>Nearly 5,000 years after he was bestowed with ...</td>\n",
              "      <td>9137.939</td>\n",
              "    </tr>\n",
              "    <tr>\n",
              "      <th>466</th>\n",
              "      <td>The Woman King</td>\n",
              "      <td>The story of the Agojie, the all-female unit o...</td>\n",
              "      <td>4835.899</td>\n",
              "    </tr>\n",
              "    <tr>\n",
              "      <th>1187</th>\n",
              "      <td>Black Panther: Wakanda Forever</td>\n",
              "      <td>Queen Ramonda, Shuri, M’Baku, Okoye and the Do...</td>\n",
              "      <td>1687.653</td>\n",
              "    </tr>\n",
              "    <tr>\n",
              "      <th>1546</th>\n",
              "      <td>The Guardians of the Galaxy Holiday Special</td>\n",
              "      <td>On a mission to make Christmas unforgettable f...</td>\n",
              "      <td>1480.629</td>\n",
              "    </tr>\n",
              "    <tr>\n",
              "      <th>2077</th>\n",
              "      <td>Disenchanted</td>\n",
              "      <td>Disillusioned with life in the city, feeling o...</td>\n",
              "      <td>1468.421</td>\n",
              "    </tr>\n",
              "  </tbody>\n",
              "</table>\n",
              "</div>\n",
              "      <button class=\"colab-df-convert\" onclick=\"convertToInteractive('df-b786cb25-62ff-4516-a59c-0e07f8107d08')\"\n",
              "              title=\"Convert this dataframe to an interactive table.\"\n",
              "              style=\"display:none;\">\n",
              "        \n",
              "  <svg xmlns=\"http://www.w3.org/2000/svg\" height=\"24px\"viewBox=\"0 0 24 24\"\n",
              "       width=\"24px\">\n",
              "    <path d=\"M0 0h24v24H0V0z\" fill=\"none\"/>\n",
              "    <path d=\"M18.56 5.44l.94 2.06.94-2.06 2.06-.94-2.06-.94-.94-2.06-.94 2.06-2.06.94zm-11 1L8.5 8.5l.94-2.06 2.06-.94-2.06-.94L8.5 2.5l-.94 2.06-2.06.94zm10 10l.94 2.06.94-2.06 2.06-.94-2.06-.94-.94-2.06-.94 2.06-2.06.94z\"/><path d=\"M17.41 7.96l-1.37-1.37c-.4-.4-.92-.59-1.43-.59-.52 0-1.04.2-1.43.59L10.3 9.45l-7.72 7.72c-.78.78-.78 2.05 0 2.83L4 21.41c.39.39.9.59 1.41.59.51 0 1.02-.2 1.41-.59l7.78-7.78 2.81-2.81c.8-.78.8-2.07 0-2.86zM5.41 20L4 18.59l7.72-7.72 1.47 1.35L5.41 20z\"/>\n",
              "  </svg>\n",
              "      </button>\n",
              "      \n",
              "  <style>\n",
              "    .colab-df-container {\n",
              "      display:flex;\n",
              "      flex-wrap:wrap;\n",
              "      gap: 12px;\n",
              "    }\n",
              "\n",
              "    .colab-df-convert {\n",
              "      background-color: #E8F0FE;\n",
              "      border: none;\n",
              "      border-radius: 50%;\n",
              "      cursor: pointer;\n",
              "      display: none;\n",
              "      fill: #1967D2;\n",
              "      height: 32px;\n",
              "      padding: 0 0 0 0;\n",
              "      width: 32px;\n",
              "    }\n",
              "\n",
              "    .colab-df-convert:hover {\n",
              "      background-color: #E2EBFA;\n",
              "      box-shadow: 0px 1px 2px rgba(60, 64, 67, 0.3), 0px 1px 3px 1px rgba(60, 64, 67, 0.15);\n",
              "      fill: #174EA6;\n",
              "    }\n",
              "\n",
              "    [theme=dark] .colab-df-convert {\n",
              "      background-color: #3B4455;\n",
              "      fill: #D2E3FC;\n",
              "    }\n",
              "\n",
              "    [theme=dark] .colab-df-convert:hover {\n",
              "      background-color: #434B5C;\n",
              "      box-shadow: 0px 1px 3px 1px rgba(0, 0, 0, 0.15);\n",
              "      filter: drop-shadow(0px 1px 2px rgba(0, 0, 0, 0.3));\n",
              "      fill: #FFFFFF;\n",
              "    }\n",
              "  </style>\n",
              "\n",
              "      <script>\n",
              "        const buttonEl =\n",
              "          document.querySelector('#df-b786cb25-62ff-4516-a59c-0e07f8107d08 button.colab-df-convert');\n",
              "        buttonEl.style.display =\n",
              "          google.colab.kernel.accessAllowed ? 'block' : 'none';\n",
              "\n",
              "        async function convertToInteractive(key) {\n",
              "          const element = document.querySelector('#df-b786cb25-62ff-4516-a59c-0e07f8107d08');\n",
              "          const dataTable =\n",
              "            await google.colab.kernel.invokeFunction('convertToInteractive',\n",
              "                                                     [key], {});\n",
              "          if (!dataTable) return;\n",
              "\n",
              "          const docLinkHtml = 'Like what you see? Visit the ' +\n",
              "            '<a target=\"_blank\" href=https://colab.research.google.com/notebooks/data_table.ipynb>data table notebook</a>'\n",
              "            + ' to learn more about interactive tables.';\n",
              "          element.innerHTML = '';\n",
              "          dataTable['output_type'] = 'display_data';\n",
              "          await google.colab.output.renderOutput(dataTable, element);\n",
              "          const docLink = document.createElement('div');\n",
              "          docLink.innerHTML = docLinkHtml;\n",
              "          element.appendChild(docLink);\n",
              "        }\n",
              "      </script>\n",
              "    </div>\n",
              "  </div>\n",
              "  "
            ]
          },
          "metadata": {},
          "execution_count": 87
        }
      ],
      "source": [
        "df.head()"
      ]
    },
    {
      "cell_type": "code",
      "execution_count": 88,
      "metadata": {
        "colab": {
          "base_uri": "https://localhost:8080/",
          "height": 35
        },
        "id": "yXyKhbjKVeap",
        "outputId": "a3d867ad-0bab-4d36-d978-e4d359b863fc"
      },
      "outputs": [
        {
          "output_type": "execute_result",
          "data": {
            "text/plain": [
              "'Nearly 5,000 years after he was bestowed with the almighty powers of the Egyptian gods—and imprisoned just as quickly—Black Adam is freed from his earthly tomb, ready to unleash his unique form of justice on the modern world.'"
            ],
            "application/vnd.google.colaboratory.intrinsic+json": {
              "type": "string"
            }
          },
          "metadata": {},
          "execution_count": 88
        }
      ],
      "source": [
        "df.iloc[0].overview"
      ]
    },
    {
      "cell_type": "code",
      "source": [
        "df.dropna(axis=0, inplace= True)"
      ],
      "metadata": {
        "id": "OXx4dxPmUsEM"
      },
      "execution_count": 89,
      "outputs": []
    },
    {
      "cell_type": "code",
      "source": [
        "df.info()"
      ],
      "metadata": {
        "colab": {
          "base_uri": "https://localhost:8080/"
        },
        "id": "bcEzbGH0Y0Jq",
        "outputId": "f6e4d650-a302-4501-d8f4-0796b59ed1c4"
      },
      "execution_count": 90,
      "outputs": [
        {
          "output_type": "stream",
          "name": "stdout",
          "text": [
            "<class 'pandas.core.frame.DataFrame'>\n",
            "Int64Index: 9994 entries, 2098 to 8171\n",
            "Data columns (total 3 columns):\n",
            " #   Column      Non-Null Count  Dtype  \n",
            "---  ------      --------------  -----  \n",
            " 0   title       9994 non-null   object \n",
            " 1   overview    9994 non-null   object \n",
            " 2   popularity  9994 non-null   float64\n",
            "dtypes: float64(1), object(2)\n",
            "memory usage: 312.3+ KB\n"
          ]
        }
      ]
    },
    {
      "cell_type": "code",
      "source": [
        "df.head"
      ],
      "metadata": {
        "colab": {
          "base_uri": "https://localhost:8080/"
        },
        "id": "qzK-7nUgZ78l",
        "outputId": "25fa1179-c1bc-4a8d-b277-41f9b5630652"
      },
      "execution_count": 91,
      "outputs": [
        {
          "output_type": "execute_result",
          "data": {
            "text/plain": [
              "<bound method NDFrame.head of                                             title  \\\n",
              "2098                                   Black Adam   \n",
              "466                                The Woman King   \n",
              "1187               Black Panther: Wakanda Forever   \n",
              "1546  The Guardians of the Galaxy Holiday Special   \n",
              "2077                                 Disenchanted   \n",
              "...                                           ...   \n",
              "9671                              Serial Teachers   \n",
              "3886                                       Tracks   \n",
              "28                         Grave of the Fireflies   \n",
              "3864                               Odds and Evens   \n",
              "8171                                       G.B.F.   \n",
              "\n",
              "                                               overview  popularity  \n",
              "2098  Nearly 5,000 years after he was bestowed with ...    9137.939  \n",
              "466   The story of the Agojie, the all-female unit o...    4835.899  \n",
              "1187  Queen Ramonda, Shuri, M’Baku, Okoye and the Do...    1687.653  \n",
              "1546  On a mission to make Christmas unforgettable f...    1480.629  \n",
              "2077  Disillusioned with life in the city, feeling o...    1468.421  \n",
              "...                                                 ...         ...  \n",
              "9671  With only 12 percent of its pupils obtaining t...       0.600  \n",
              "3886  Accompanied only by her faithful dog and four ...       0.600  \n",
              "28    In the final months of World War II, 14-year-o...       0.600  \n",
              "3864  A bumbling government agent recruits a trucker...       0.600  \n",
              "8171  The bitter fight for supremacy between the thr...       0.600  \n",
              "\n",
              "[9994 rows x 3 columns]>"
            ]
          },
          "metadata": {},
          "execution_count": 91
        }
      ]
    },
    {
      "cell_type": "markdown",
      "metadata": {
        "id": "60vwITLaGCxO"
      },
      "source": [
        "# Bangun Sistem Rekomendasi Film\n",
        "\n",
        "Di sini Anda akan membangun sistem rekomendasi film Anda sendiri. Kami akan menggunakan pipa berikut:\n",
        "- Teks pra-pemrosesan\n",
        "- Rekayasa Fitur\n",
        "- Komputasi Kemiripan Dokumen\n",
        "- Temukan film serupa teratas\n",
        "- Bangun fungsi rekomendasi film\n",
        "\n",
        "\n",
        "## Kemiripan Dokumen / document similarity\n",
        "\n",
        "Rekomendasi adalah tentang memahami fitur dasar yang membuat kita menyukai satu pilihan daripada yang lain. Kesamaan antar item (dalam hal ini film) adalah salah satu cara untuk memahami mengapa kita memilih satu film daripada yang lain. Ada berbagai cara untuk menghitung kesamaan antara dua item. Salah satu ukuran yang paling banyak digunakan adalah __cosine similarity__ yang telah kita gunakan di unit sebelumnya.\n",
        "\n",
        "### Kemiripan Kosinus\n",
        "\n",
        "Cosine Similarity digunakan untuk menghitung skor numerik untuk menunjukkan kesamaan antara dua dokumen teks. Secara matematis, ini didefinisikan sebagai berikut:\n",
        "\n",
        "$$ cosinus(x,y) = \\frac{x. y^\\intercal}{||x||.||y||} $$"
      ]
    },
    {
      "cell_type": "code",
      "execution_count": 92,
      "metadata": {
        "colab": {
          "base_uri": "https://localhost:8080/"
        },
        "id": "jhmh3aAqVk9X",
        "outputId": "d12442bc-251f-423d-a4ca-c13b6852b26c"
      },
      "outputs": [
        {
          "output_type": "execute_result",
          "data": {
            "text/plain": [
              "9994"
            ]
          },
          "metadata": {},
          "execution_count": 92
        }
      ],
      "source": [
        "import nltk\n",
        "import re\n",
        "import numpy as np\n",
        "import contractions\n",
        "\n",
        "stop_words = nltk.corpus.stopwords.words('english')\n",
        "\n",
        "def normalize_document(doc):\n",
        "    # lower case and remove special characters\\whitespaces\n",
        "    doc = re.sub(r'[^a-zA-Z0-9\\s]', '', doc, re.I|re.A)\n",
        "    doc = doc.lower()\n",
        "    doc = doc.strip()\n",
        "    doc = contractions.fix(doc)\n",
        "    # tokenize document\n",
        "    tokens = nltk.word_tokenize(doc)\n",
        "    #filter stopwords out of document\n",
        "    filtered_tokens = [token for token in tokens if token not in stop_words]\n",
        "    # re-create document from filtered tokens\n",
        "    doc = ' '.join(filtered_tokens)\n",
        "    return doc\n",
        "\n",
        "normalize_corpus = np.vectorize(normalize_document)\n",
        "\n",
        "norm_corpus = normalize_corpus(list(df['overview']))\n",
        "len(norm_corpus)"
      ]
    },
    {
      "cell_type": "markdown",
      "metadata": {
        "id": "Njr1PJAyGI3T"
      },
      "source": [
        "## Extrak TF-IDF"
      ]
    },
    {
      "cell_type": "code",
      "execution_count": 93,
      "metadata": {
        "colab": {
          "base_uri": "https://localhost:8080/"
        },
        "id": "q81rt1hlVs2l",
        "outputId": "5f899aa9-a5d3-4f07-f70e-1025c0abca60"
      },
      "outputs": [
        {
          "output_type": "execute_result",
          "data": {
            "text/plain": [
              "(9994, 32839)"
            ]
          },
          "metadata": {},
          "execution_count": 93
        }
      ],
      "source": [
        "from sklearn.feature_extraction.text import TfidfVectorizer\n",
        "\n",
        "tf = TfidfVectorizer(ngram_range=(1, 2), min_df=2)\n",
        "tfidf_matrix = tf.fit_transform(norm_corpus)\n",
        "tfidf_matrix.shape"
      ]
    },
    {
      "cell_type": "markdown",
      "metadata": {
        "id": "buWfXVACGMlI"
      },
      "source": [
        "## Compute Pairwise Document Similarity"
      ]
    },
    {
      "cell_type": "code",
      "execution_count": 94,
      "metadata": {
        "colab": {
          "base_uri": "https://localhost:8080/",
          "height": 236
        },
        "id": "htSj1WBPVt3p",
        "outputId": "9108f9b5-44ac-4662-a43c-ba18c927a5c8"
      },
      "outputs": [
        {
          "output_type": "execute_result",
          "data": {
            "text/plain": [
              "       0         1         2     3         4         5         6     7     \\\n",
              "0  1.000000  0.008952  0.028209   0.0  0.000000  0.000000  0.000000   0.0   \n",
              "1  0.008952  1.000000  0.042893   0.0  0.029633  0.005063  0.013363   0.0   \n",
              "2  0.028209  0.042893  1.000000   0.0  0.011138  0.010661  0.000000   0.0   \n",
              "3  0.000000  0.000000  0.000000   1.0  0.000000  0.000000  0.000000   0.0   \n",
              "4  0.000000  0.029633  0.011138   0.0  1.000000  0.008833  0.000000   0.0   \n",
              "\n",
              "       8     9     ...      9984    9985      9986  9987      9988      9989  \\\n",
              "0  0.000000   0.0  ...  0.046738  0.0000  0.000000   0.0  0.000000  0.000000   \n",
              "1  0.000000   0.0  ...  0.000000  0.0000  0.014463   0.0  0.021450  0.000000   \n",
              "2  0.010486   0.0  ...  0.010589  0.0067  0.000000   0.0  0.033318  0.015416   \n",
              "3  0.000000   0.0  ...  0.000000  0.0000  0.000000   0.0  0.000000  0.000000   \n",
              "4  0.009079   0.0  ...  0.000000  0.0000  0.000000   0.0  0.010641  0.018685   \n",
              "\n",
              "       9990      9991      9992      9993  \n",
              "0  0.000000  0.008607  0.000000  0.000000  \n",
              "1  0.000000  0.007290  0.036992  0.000000  \n",
              "2  0.021654  0.015403  0.011766  0.015378  \n",
              "3  0.000000  0.000000  0.000000  0.000000  \n",
              "4  0.000000  0.000000  0.010187  0.004704  \n",
              "\n",
              "[5 rows x 9994 columns]"
            ],
            "text/html": [
              "\n",
              "  <div id=\"df-287ce31f-8b40-4e7f-8e10-42fde6ee36e8\">\n",
              "    <div class=\"colab-df-container\">\n",
              "      <div>\n",
              "<style scoped>\n",
              "    .dataframe tbody tr th:only-of-type {\n",
              "        vertical-align: middle;\n",
              "    }\n",
              "\n",
              "    .dataframe tbody tr th {\n",
              "        vertical-align: top;\n",
              "    }\n",
              "\n",
              "    .dataframe thead th {\n",
              "        text-align: right;\n",
              "    }\n",
              "</style>\n",
              "<table border=\"1\" class=\"dataframe\">\n",
              "  <thead>\n",
              "    <tr style=\"text-align: right;\">\n",
              "      <th></th>\n",
              "      <th>0</th>\n",
              "      <th>1</th>\n",
              "      <th>2</th>\n",
              "      <th>3</th>\n",
              "      <th>4</th>\n",
              "      <th>5</th>\n",
              "      <th>6</th>\n",
              "      <th>7</th>\n",
              "      <th>8</th>\n",
              "      <th>9</th>\n",
              "      <th>...</th>\n",
              "      <th>9984</th>\n",
              "      <th>9985</th>\n",
              "      <th>9986</th>\n",
              "      <th>9987</th>\n",
              "      <th>9988</th>\n",
              "      <th>9989</th>\n",
              "      <th>9990</th>\n",
              "      <th>9991</th>\n",
              "      <th>9992</th>\n",
              "      <th>9993</th>\n",
              "    </tr>\n",
              "  </thead>\n",
              "  <tbody>\n",
              "    <tr>\n",
              "      <th>0</th>\n",
              "      <td>1.000000</td>\n",
              "      <td>0.008952</td>\n",
              "      <td>0.028209</td>\n",
              "      <td>0.0</td>\n",
              "      <td>0.000000</td>\n",
              "      <td>0.000000</td>\n",
              "      <td>0.000000</td>\n",
              "      <td>0.0</td>\n",
              "      <td>0.000000</td>\n",
              "      <td>0.0</td>\n",
              "      <td>...</td>\n",
              "      <td>0.046738</td>\n",
              "      <td>0.0000</td>\n",
              "      <td>0.000000</td>\n",
              "      <td>0.0</td>\n",
              "      <td>0.000000</td>\n",
              "      <td>0.000000</td>\n",
              "      <td>0.000000</td>\n",
              "      <td>0.008607</td>\n",
              "      <td>0.000000</td>\n",
              "      <td>0.000000</td>\n",
              "    </tr>\n",
              "    <tr>\n",
              "      <th>1</th>\n",
              "      <td>0.008952</td>\n",
              "      <td>1.000000</td>\n",
              "      <td>0.042893</td>\n",
              "      <td>0.0</td>\n",
              "      <td>0.029633</td>\n",
              "      <td>0.005063</td>\n",
              "      <td>0.013363</td>\n",
              "      <td>0.0</td>\n",
              "      <td>0.000000</td>\n",
              "      <td>0.0</td>\n",
              "      <td>...</td>\n",
              "      <td>0.000000</td>\n",
              "      <td>0.0000</td>\n",
              "      <td>0.014463</td>\n",
              "      <td>0.0</td>\n",
              "      <td>0.021450</td>\n",
              "      <td>0.000000</td>\n",
              "      <td>0.000000</td>\n",
              "      <td>0.007290</td>\n",
              "      <td>0.036992</td>\n",
              "      <td>0.000000</td>\n",
              "    </tr>\n",
              "    <tr>\n",
              "      <th>2</th>\n",
              "      <td>0.028209</td>\n",
              "      <td>0.042893</td>\n",
              "      <td>1.000000</td>\n",
              "      <td>0.0</td>\n",
              "      <td>0.011138</td>\n",
              "      <td>0.010661</td>\n",
              "      <td>0.000000</td>\n",
              "      <td>0.0</td>\n",
              "      <td>0.010486</td>\n",
              "      <td>0.0</td>\n",
              "      <td>...</td>\n",
              "      <td>0.010589</td>\n",
              "      <td>0.0067</td>\n",
              "      <td>0.000000</td>\n",
              "      <td>0.0</td>\n",
              "      <td>0.033318</td>\n",
              "      <td>0.015416</td>\n",
              "      <td>0.021654</td>\n",
              "      <td>0.015403</td>\n",
              "      <td>0.011766</td>\n",
              "      <td>0.015378</td>\n",
              "    </tr>\n",
              "    <tr>\n",
              "      <th>3</th>\n",
              "      <td>0.000000</td>\n",
              "      <td>0.000000</td>\n",
              "      <td>0.000000</td>\n",
              "      <td>1.0</td>\n",
              "      <td>0.000000</td>\n",
              "      <td>0.000000</td>\n",
              "      <td>0.000000</td>\n",
              "      <td>0.0</td>\n",
              "      <td>0.000000</td>\n",
              "      <td>0.0</td>\n",
              "      <td>...</td>\n",
              "      <td>0.000000</td>\n",
              "      <td>0.0000</td>\n",
              "      <td>0.000000</td>\n",
              "      <td>0.0</td>\n",
              "      <td>0.000000</td>\n",
              "      <td>0.000000</td>\n",
              "      <td>0.000000</td>\n",
              "      <td>0.000000</td>\n",
              "      <td>0.000000</td>\n",
              "      <td>0.000000</td>\n",
              "    </tr>\n",
              "    <tr>\n",
              "      <th>4</th>\n",
              "      <td>0.000000</td>\n",
              "      <td>0.029633</td>\n",
              "      <td>0.011138</td>\n",
              "      <td>0.0</td>\n",
              "      <td>1.000000</td>\n",
              "      <td>0.008833</td>\n",
              "      <td>0.000000</td>\n",
              "      <td>0.0</td>\n",
              "      <td>0.009079</td>\n",
              "      <td>0.0</td>\n",
              "      <td>...</td>\n",
              "      <td>0.000000</td>\n",
              "      <td>0.0000</td>\n",
              "      <td>0.000000</td>\n",
              "      <td>0.0</td>\n",
              "      <td>0.010641</td>\n",
              "      <td>0.018685</td>\n",
              "      <td>0.000000</td>\n",
              "      <td>0.000000</td>\n",
              "      <td>0.010187</td>\n",
              "      <td>0.004704</td>\n",
              "    </tr>\n",
              "  </tbody>\n",
              "</table>\n",
              "<p>5 rows × 9994 columns</p>\n",
              "</div>\n",
              "      <button class=\"colab-df-convert\" onclick=\"convertToInteractive('df-287ce31f-8b40-4e7f-8e10-42fde6ee36e8')\"\n",
              "              title=\"Convert this dataframe to an interactive table.\"\n",
              "              style=\"display:none;\">\n",
              "        \n",
              "  <svg xmlns=\"http://www.w3.org/2000/svg\" height=\"24px\"viewBox=\"0 0 24 24\"\n",
              "       width=\"24px\">\n",
              "    <path d=\"M0 0h24v24H0V0z\" fill=\"none\"/>\n",
              "    <path d=\"M18.56 5.44l.94 2.06.94-2.06 2.06-.94-2.06-.94-.94-2.06-.94 2.06-2.06.94zm-11 1L8.5 8.5l.94-2.06 2.06-.94-2.06-.94L8.5 2.5l-.94 2.06-2.06.94zm10 10l.94 2.06.94-2.06 2.06-.94-2.06-.94-.94-2.06-.94 2.06-2.06.94z\"/><path d=\"M17.41 7.96l-1.37-1.37c-.4-.4-.92-.59-1.43-.59-.52 0-1.04.2-1.43.59L10.3 9.45l-7.72 7.72c-.78.78-.78 2.05 0 2.83L4 21.41c.39.39.9.59 1.41.59.51 0 1.02-.2 1.41-.59l7.78-7.78 2.81-2.81c.8-.78.8-2.07 0-2.86zM5.41 20L4 18.59l7.72-7.72 1.47 1.35L5.41 20z\"/>\n",
              "  </svg>\n",
              "      </button>\n",
              "      \n",
              "  <style>\n",
              "    .colab-df-container {\n",
              "      display:flex;\n",
              "      flex-wrap:wrap;\n",
              "      gap: 12px;\n",
              "    }\n",
              "\n",
              "    .colab-df-convert {\n",
              "      background-color: #E8F0FE;\n",
              "      border: none;\n",
              "      border-radius: 50%;\n",
              "      cursor: pointer;\n",
              "      display: none;\n",
              "      fill: #1967D2;\n",
              "      height: 32px;\n",
              "      padding: 0 0 0 0;\n",
              "      width: 32px;\n",
              "    }\n",
              "\n",
              "    .colab-df-convert:hover {\n",
              "      background-color: #E2EBFA;\n",
              "      box-shadow: 0px 1px 2px rgba(60, 64, 67, 0.3), 0px 1px 3px 1px rgba(60, 64, 67, 0.15);\n",
              "      fill: #174EA6;\n",
              "    }\n",
              "\n",
              "    [theme=dark] .colab-df-convert {\n",
              "      background-color: #3B4455;\n",
              "      fill: #D2E3FC;\n",
              "    }\n",
              "\n",
              "    [theme=dark] .colab-df-convert:hover {\n",
              "      background-color: #434B5C;\n",
              "      box-shadow: 0px 1px 3px 1px rgba(0, 0, 0, 0.15);\n",
              "      filter: drop-shadow(0px 1px 2px rgba(0, 0, 0, 0.3));\n",
              "      fill: #FFFFFF;\n",
              "    }\n",
              "  </style>\n",
              "\n",
              "      <script>\n",
              "        const buttonEl =\n",
              "          document.querySelector('#df-287ce31f-8b40-4e7f-8e10-42fde6ee36e8 button.colab-df-convert');\n",
              "        buttonEl.style.display =\n",
              "          google.colab.kernel.accessAllowed ? 'block' : 'none';\n",
              "\n",
              "        async function convertToInteractive(key) {\n",
              "          const element = document.querySelector('#df-287ce31f-8b40-4e7f-8e10-42fde6ee36e8');\n",
              "          const dataTable =\n",
              "            await google.colab.kernel.invokeFunction('convertToInteractive',\n",
              "                                                     [key], {});\n",
              "          if (!dataTable) return;\n",
              "\n",
              "          const docLinkHtml = 'Like what you see? Visit the ' +\n",
              "            '<a target=\"_blank\" href=https://colab.research.google.com/notebooks/data_table.ipynb>data table notebook</a>'\n",
              "            + ' to learn more about interactive tables.';\n",
              "          element.innerHTML = '';\n",
              "          dataTable['output_type'] = 'display_data';\n",
              "          await google.colab.output.renderOutput(dataTable, element);\n",
              "          const docLink = document.createElement('div');\n",
              "          docLink.innerHTML = docLinkHtml;\n",
              "          element.appendChild(docLink);\n",
              "        }\n",
              "      </script>\n",
              "    </div>\n",
              "  </div>\n",
              "  "
            ]
          },
          "metadata": {},
          "execution_count": 94
        }
      ],
      "source": [
        "from sklearn.metrics.pairwise import cosine_similarity\n",
        "\n",
        "doc_sim = cosine_similarity(tfidf_matrix)\n",
        "doc_sim_df = pd.DataFrame(doc_sim)\n",
        "doc_sim_df.head()"
      ]
    },
    {
      "cell_type": "markdown",
      "metadata": {
        "id": "06tyYXABGOY2"
      },
      "source": [
        "## mendapatkan title / judul movies"
      ]
    },
    {
      "cell_type": "code",
      "execution_count": 95,
      "metadata": {
        "colab": {
          "base_uri": "https://localhost:8080/"
        },
        "id": "AkQ1-OjFVvdw",
        "outputId": "602c0b55-983e-4207-f0c5-354fddcfd1cb"
      },
      "outputs": [
        {
          "output_type": "execute_result",
          "data": {
            "text/plain": [
              "(array(['Black Adam', 'The Woman King', 'Black Panther: Wakanda Forever',\n",
              "        ..., 'Grave of the Fireflies', 'Odds and Evens', 'G.B.F.'],\n",
              "       dtype=object), (9994,))"
            ]
          },
          "metadata": {},
          "execution_count": 95
        }
      ],
      "source": [
        "movies_list = df['title'].values\n",
        "movies_list, movies_list.shape"
      ]
    },
    {
      "cell_type": "markdown",
      "metadata": {
        "id": "oYnMl5HVGY3v"
      },
      "source": [
        "## Temukan Film Serupa Teratas untuk Contoh Film\n",
        "\n",
        "Mari ambil __Minions__ film paling populer dari kerangka data di atas dan coba temukan film paling mirip yang dapat direkomendasikan"
      ]
    },
    {
      "cell_type": "markdown",
      "metadata": {
        "id": "Jb0zYhQGGdXs"
      },
      "source": [
        "### ambil movie ID"
      ]
    },
    {
      "cell_type": "code",
      "execution_count": 96,
      "metadata": {
        "colab": {
          "base_uri": "https://localhost:8080/"
        },
        "id": "2-0eF9d5VwcD",
        "outputId": "2cc3cc34-e46b-4a40-a35f-a2b3b437bfb4"
      },
      "outputs": [
        {
          "output_type": "execute_result",
          "data": {
            "text/plain": [
              "964"
            ]
          },
          "metadata": {},
          "execution_count": 96
        }
      ],
      "source": [
        "movie_idx = np.where(movies_list == 'Annabelle')[0][0]\n",
        "movie_idx"
      ]
    },
    {
      "cell_type": "markdown",
      "metadata": {
        "id": "N5ANO-GxGg0D"
      },
      "source": [
        "### ambil similarities"
      ]
    },
    {
      "cell_type": "code",
      "execution_count": 97,
      "metadata": {
        "colab": {
          "base_uri": "https://localhost:8080/"
        },
        "id": "50qG66H4VxaO",
        "outputId": "374e84a2-9246-42dc-c43f-3d8f6b94f8e8"
      },
      "outputs": [
        {
          "output_type": "execute_result",
          "data": {
            "text/plain": [
              "array([0., 0., 0., ..., 0., 0., 0.])"
            ]
          },
          "metadata": {},
          "execution_count": 97
        }
      ],
      "source": [
        "movie_similarities = doc_sim_df.iloc[movie_idx].values\n",
        "movie_similarities"
      ]
    },
    {
      "cell_type": "markdown",
      "metadata": {
        "id": "7Z4U9XqMGofg"
      },
      "source": [
        "### mengambil top 10 similar movie IDs"
      ]
    },
    {
      "cell_type": "code",
      "execution_count": 98,
      "metadata": {
        "colab": {
          "base_uri": "https://localhost:8080/"
        },
        "id": "nCp6LI9OVzBh",
        "outputId": "fe3c3bb0-7728-4128-d23b-8ba77e9f8e31"
      },
      "outputs": [
        {
          "output_type": "execute_result",
          "data": {
            "text/plain": [
              "array([1925, 2094,  782, 2023,   14, 9789, 7473, 6751, 4894, 8174])"
            ]
          },
          "metadata": {},
          "execution_count": 98
        }
      ],
      "source": [
        "similar_movie_idxs = np.argsort(-movie_similarities)[1:11]\n",
        "similar_movie_idxs"
      ]
    },
    {
      "cell_type": "markdown",
      "source": [],
      "metadata": {
        "id": "hM7xwY45eXk-"
      }
    },
    {
      "cell_type": "markdown",
      "metadata": {
        "id": "nf3R8PL_GsFV"
      },
      "source": [
        "### menampilkan top 10 similar movies"
      ]
    },
    {
      "cell_type": "code",
      "execution_count": 99,
      "metadata": {
        "colab": {
          "base_uri": "https://localhost:8080/"
        },
        "id": "p45bXWcLVz7V",
        "outputId": "ba621b07-f4f4-4eff-b2c8-ff1fedd624b1"
      },
      "outputs": [
        {
          "output_type": "execute_result",
          "data": {
            "text/plain": [
              "array(['The Jack in the Box', 'The Boy', 'Annabelle: Creation',\n",
              "       'Universal Soldier', 'Jeepers Creepers: Reborn', '9', 'Inferno',\n",
              "       'Wait Until Dark', 'The Night Eats the World', 'Repulsion'],\n",
              "      dtype=object)"
            ]
          },
          "metadata": {},
          "execution_count": 99
        }
      ],
      "source": [
        "similar_movies = movies_list[similar_movie_idxs]\n",
        "similar_movies"
      ]
    },
    {
      "cell_type": "markdown",
      "metadata": {
        "id": "HsEr2msSG0P_"
      },
      "source": [
        "### Buat fungsi rekomendasi film untuk merekomendasikan 5 film serupa teratas untuk film apa pun\n",
        "\n",
        "\n",
        "The movie title, movie title list and document similarity matrix dataframe akan diberikan sebagai input ke fungsi"
      ]
    },
    {
      "cell_type": "code",
      "execution_count": 100,
      "metadata": {
        "id": "ntQfhP_CV0wO"
      },
      "outputs": [],
      "source": [
        "def movie_recommender(movie_title, movies=movies_list, doc_sims=doc_sim_df):\n",
        "    # find movie id\n",
        "    movie_idx = np.where(movies == movie_title)[0][0]\n",
        "    # get movie similarities\n",
        "    movie_similarities = doc_sims.iloc[movie_idx].values\n",
        "    # get top 5 similar movie IDs\n",
        "    similar_movie_idxs = np.argsort(-movie_similarities)[1:6]\n",
        "    # get top 5 movies\n",
        "    similar_movies = movies[similar_movie_idxs]\n",
        "    # return the top 5 movies\n",
        "    return similar_movies"
      ]
    },
    {
      "cell_type": "markdown",
      "metadata": {
        "id": "woWv4gI9G_j8"
      },
      "source": [
        "# misal cari rekomendasi untuk film film berikut"
      ]
    },
    {
      "cell_type": "code",
      "execution_count": 101,
      "metadata": {
        "id": "5tyK3sc9V1sW"
      },
      "outputs": [],
      "source": [
        "popular_movies = ['Black Panther', 'Black Adam', 'Deadpool', 'Jurassic World', 'Pirates of the Caribbean: The Curse of the Black Pearl',\n",
        "              'Dawn of the Planet of the Apes', 'The Hunger Games: Mockingjay - Part 1', 'Terminator Genisys', \n",
        "              'Captain America: Civil War', 'The Dark Knight', 'The Martian', 'Batman v Superman: Dawn of Justice', \n",
        "              'Pulp Fiction', 'The Godfather', 'The Shawshank Redemption', 'The Lord of the Rings: The Fellowship of the Ring',  \n",
        "              'Harry Potter and the Chamber of Secrets', 'Star Wars', 'The Hobbit: The Battle of the Five Armies',\n",
        "              'Iron Man']"
      ]
    },
    {
      "cell_type": "code",
      "execution_count": 102,
      "metadata": {
        "colab": {
          "base_uri": "https://localhost:8080/"
        },
        "id": "G0UfKTONV22K",
        "outputId": "f8572fa9-3d14-451d-ceeb-9b79172a2b31"
      },
      "outputs": [
        {
          "output_type": "stream",
          "name": "stdout",
          "text": [
            "Movie: Black Panther\n",
            "Top 5 recommended Movies: ['Black Panther: Wakanda Forever'\n",
            " 'Ultimate Avengers 2: Rise of the Panther'\n",
            " 'The Tall Blond Man with One Black Shoe' 'Judas and the Black Messiah'\n",
            " \"The King's Speech\"]\n",
            "\n",
            "Movie: Black Adam\n",
            "Top 5 recommended Movies: ['Harry Brown' 'Dark Shadows' 'Pulse' 'The Photographer of Mauthausen'\n",
            " 'Poetic Justice']\n",
            "\n",
            "Movie: Deadpool\n",
            "Top 5 recommended Movies: ['Deadpool 2' 'Day Watch' 'Mr. Brooks' 'Once Upon a Deadpool' 'Boss Level']\n",
            "\n",
            "Movie: Jurassic World\n",
            "Top 5 recommended Movies: ['Action Point' 'Jurassic Park' 'The Lost World: Jurassic Park'\n",
            " 'Jurassic World Dominion' 'Futureworld']\n",
            "\n",
            "Movie: Pirates of the Caribbean: The Curse of the Black Pearl\n",
            "Top 5 recommended Movies: [\"Pirates of the Caribbean: Dead Man's Chest\"\n",
            " 'Pirates of the Caribbean: On Stranger Tides'\n",
            " 'The Pirates! In an Adventure with Scientists!'\n",
            " 'Ginger Snaps Back: The Beginning' 'Red Sparrow']\n",
            "\n",
            "Movie: Dawn of the Planet of the Apes\n",
            "Top 5 recommended Movies: ['Battle for the Planet of the Apes' 'War for the Planet of the Apes'\n",
            " 'Godzilla' 'Unknown' 'Dark Star']\n",
            "\n",
            "Movie: The Hunger Games: Mockingjay - Part 1\n",
            "Top 5 recommended Movies: ['The Hunger Games: Catching Fire' 'Near Dark'\n",
            " 'The Hunger Games: Mockingjay - Part 2' 'John Carter'\n",
            " 'Do the Right Thing']\n",
            "\n",
            "Movie: Terminator Genisys\n",
            "Top 5 recommended Movies: ['Terminator 2: Judgment Day' 'Terminator Salvation'\n",
            " 'Terminator 3: Rise of the Machines' 'Terminator: Dark Fate' 'Rising Sun']\n",
            "\n",
            "Movie: Captain America: Civil War\n",
            "Top 5 recommended Movies: ['Team Thor: Part 2' 'Team Thor' 'Captain America: The Winter Soldier'\n",
            " 'Ultimate Avengers: The Movie' 'Spider-Man: Homecoming']\n",
            "\n",
            "Movie: The Dark Knight\n",
            "Top 5 recommended Movies: ['Batman: The Long Halloween, Part One'\n",
            " 'Batman: The Long Halloween, Part Two' 'The Dark Knight Rises'\n",
            " 'Batman: Gotham by Gaslight' 'Batman Forever']\n",
            "\n",
            "Movie: The Martian\n",
            "Top 5 recommended Movies: ['The Last Days on Mars' 'Stowaway' 'Swept Away' 'The Losers' 'Alien']\n",
            "\n",
            "Movie: Batman v Superman: Dawn of Justice\n",
            "Top 5 recommended Movies: ['Batman: The Long Halloween, Part Two'\n",
            " 'Batman: The Long Halloween, Part One'\n",
            " 'Lego Batman: The Movie - DC Super Heroes Unite' 'Tall Girl 2'\n",
            " 'Brightburn']\n",
            "\n",
            "Movie: Pulp Fiction\n",
            "Top 5 recommended Movies: ['Sliding Doors' 'La Jetée' 'Tales from the Darkside: The Movie'\n",
            " 'Ghost Dog: The Way of the Samurai' 'Fun Is Beautiful']\n",
            "\n",
            "Movie: The Godfather\n",
            "Top 5 recommended Movies: ['The Godfather Part II' 'Proud Mary' 'Gotti' 'Blood Ties'\n",
            " 'The Godfather Part III']\n",
            "\n",
            "Movie: The Shawshank Redemption\n",
            "Top 5 recommended Movies: ['Sherlock Jr.' 'The Blues Brothers' 'Brubaker' 'The 40 Year Old Virgin'\n",
            " 'The Woodsman']\n",
            "\n",
            "Movie: The Lord of the Rings: The Fellowship of the Ring\n",
            "Top 5 recommended Movies: ['The Lord of the Rings' 'The Lord of the Rings: The Two Towers'\n",
            " 'The Hobbit' 'The Hobbit: An Unexpected Journey'\n",
            " 'The Lord of the Rings: The Return of the King']\n",
            "\n",
            "Movie: Harry Potter and the Chamber of Secrets\n",
            "Top 5 recommended Movies: [\"Harry Potter and the Philosopher's Stone\"\n",
            " 'Harry Potter and the Deathly Hallows: Part 1'\n",
            " 'Harry Potter and the Half-Blood Prince'\n",
            " 'Harry Potter and the Deathly Hallows: Part 2'\n",
            " 'Harry Potter and the Order of the Phoenix']\n",
            "\n",
            "Movie: Star Wars\n",
            "Top 5 recommended Movies: ['The Empire Strikes Back' 'Star Wars: The Force Awakens'\n",
            " 'Return of the Jedi' 'Where Eagles Dare' 'Inside Man: Most Wanted']\n",
            "\n",
            "Movie: The Hobbit: The Battle of the Five Armies\n",
            "Top 5 recommended Movies: ['The Hobbit' 'The Hobbit: The Desolation of Smaug'\n",
            " 'The Hobbit: An Unexpected Journey' 'Strange Magic' 'Luck']\n",
            "\n",
            "Movie: Iron Man\n",
            "Top 5 recommended Movies: ['Iron Man 2' 'Clown' 'Tau' 'The Disappearance of Alice Creed' 'Shut In']\n",
            "\n"
          ]
        }
      ],
      "source": [
        "for movie in popular_movies:\n",
        "    print('Movie:', movie)\n",
        "    print('Top 5 recommended Movies:', movie_recommender(movie_title=movie, movies=movies_list, doc_sims=doc_sim_df))\n",
        "    print()"
      ]
    }
  ],
  "metadata": {
    "colab": {
      "provenance": [],
      "include_colab_link": true
    },
    "kernelspec": {
      "display_name": "Python 3 (ipykernel)",
      "language": "python",
      "name": "python3"
    },
    "language_info": {
      "codemirror_mode": {
        "name": "ipython",
        "version": 3
      },
      "file_extension": ".py",
      "mimetype": "text/x-python",
      "name": "python",
      "nbconvert_exporter": "python",
      "pygments_lexer": "ipython3",
      "version": "3.9.5"
    }
  },
  "nbformat": 4,
  "nbformat_minor": 0
}
